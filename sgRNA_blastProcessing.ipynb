{
 "cells": [
  {
   "cell_type": "code",
   "execution_count": 11,
   "metadata": {},
   "outputs": [],
   "source": [
    "\"\"\"\n",
    "1. All sgRNA where blasted to MANE transcript database. \n",
    "2. Top 5 hits for each sequence were stored\n",
    "3. Ensembl Gene ID for all the transcripts where retrieved uising bioMart\n",
    "4. Select threshold \n",
    "\"\"\"\n",
    "import pandas as pd\n",
    "import biomart"
   ]
  },
  {
   "cell_type": "code",
   "execution_count": 13,
   "metadata": {},
   "outputs": [],
   "source": [
    "df = pd.read_csv(\n",
    "    r\"/home/cfvall/output/result.tsv\",\n",
    "    sep='\\t',\n",
    "    header=None,\n",
    "    names=[\"id\", \"transcript_id\", \"pident\", \"length\", \"mismatch\", \"gapopen\", \"qstart\", \"qend\", \"sstart\", \"send\", \"evalue\", \"bitscore\", \"sstrand\"]\n",
    ")\n",
    "df['transcript_id'] = df['transcript_id'].str.split('.').str[0]\n",
    "df['library_geneSymbol'] = df[\"id\"].str.split('_').str[0]\n"
   ]
  },
  {
   "cell_type": "code",
   "execution_count": 3,
   "metadata": {},
   "outputs": [],
   "source": [
    "def get_ensembl_mappings(dataset):                                   \n",
    "    # Set up connection to server                                               \n",
    "    mart = dataset                           \n",
    "                                                                                \n",
    "    # List the types of data we want                                            \n",
    "    attributes = ['ensembl_transcript_id', 'hgnc_symbol', \n",
    "                  'ensembl_gene_id', 'entrezgene_id']\n",
    "                                                                                \n",
    "    # Get the mapping between the attributes                                    \n",
    "    response = mart.search({'attributes': attributes})                          \n",
    "    data = response.raw.data.decode('ascii')                                    \n",
    "                                                                                \n",
    "    # Create a list to hold our data rows                                             \n",
    "    rows_list = []                                            \n",
    "    \n",
    "    # Iterate over each line in the data and store it in our list\n",
    "    for line in data.split('\\n'):                                              \n",
    "        if line:  # check that line is not empty\n",
    "            line_data = line.split('\\t')                                                 \n",
    "            row_dict = {\n",
    "                'transcript_id': line_data[0],\n",
    "                'gene_symbol': line_data[1],\n",
    "                'ensembl_gene': line_data[2],\n",
    "                'entrezgene_id': line_data[3] if len(line_data) > 3 else None\n",
    "            }\n",
    "            rows_list.append(row_dict)\n",
    "    \n",
    "    # Convert our list of dicts into a dataframe                                 \n",
    "    df_out = pd.DataFrame(rows_list)                                                                                \n",
    "    return df_out\n",
    "\n"
   ]
  },
  {
   "cell_type": "code",
   "execution_count": 4,
   "metadata": {},
   "outputs": [],
   "source": [
    "server = biomart.BiomartServer('http://www.ensembl.org/biomart')\n",
    "\n",
    "# Select the appropriate dataset\n",
    "dataset = server.datasets['hsapiens_gene_ensembl']\n",
    "\n",
    "biomartDB = get_ensembl_mappings(dataset)"
   ]
  },
  {
   "cell_type": "code",
   "execution_count": 24,
   "metadata": {},
   "outputs": [],
   "source": [
    "#print retrievable attributes\n",
    "# dataset.attributes"
   ]
  },
  {
   "cell_type": "code",
   "execution_count": 14,
   "metadata": {},
   "outputs": [],
   "source": [
    "df_merged = pd.merge(left=df, right=biomartDB, on='transcript_id' , how='left')"
   ]
  },
  {
   "cell_type": "code",
   "execution_count": 15,
   "metadata": {},
   "outputs": [],
   "source": [
    "df_merged['geneSymbol_match'] = df_merged['library_geneSymbol'] == df_merged['gene_symbol']"
   ]
  },
  {
   "cell_type": "code",
   "execution_count": 7,
   "metadata": {},
   "outputs": [],
   "source": [
    "df_merged_subset = df_merged[df_merged['evalue'] < 0.1]"
   ]
  },
  {
   "cell_type": "code",
   "execution_count": 20,
   "metadata": {},
   "outputs": [],
   "source": [
    "df_merged['index'] = df_merged[\"id\"].str.split('_').str[-1]"
   ]
  },
  {
   "cell_type": "code",
   "execution_count": 21,
   "metadata": {},
   "outputs": [],
   "source": [
    "df_merged.to_csv('/home/cfvall/output/blast_results.tsv' , header=True, index=False, sep='\\t')"
   ]
  },
  {
   "cell_type": "code",
   "execution_count": null,
   "metadata": {},
   "outputs": [],
   "source": []
  }
 ],
 "metadata": {
  "kernelspec": {
   "display_name": "bioenv",
   "language": "python",
   "name": "python3"
  },
  "language_info": {
   "codemirror_mode": {
    "name": "ipython",
    "version": 3
   },
   "file_extension": ".py",
   "mimetype": "text/x-python",
   "name": "python",
   "nbconvert_exporter": "python",
   "pygments_lexer": "ipython3",
   "version": "3.8.19"
  }
 },
 "nbformat": 4,
 "nbformat_minor": 2
}
